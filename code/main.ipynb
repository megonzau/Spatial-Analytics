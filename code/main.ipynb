{
 "cells": [
  {
   "attachments": {},
   "cell_type": "markdown",
   "metadata": {},
   "source": [
    "# Accessibility to Public Services: Ecuador Case"
   ]
  },
  {
   "cell_type": "code",
   "execution_count": 6,
   "metadata": {},
   "outputs": [],
   "source": [
    "import geopandas as gpd #Para archivos .shp \n",
    "import matplotlib.pyplot as plt #Para gráficar \n",
    "#Se define el tamaño de salidad de las gráficas\n",
    "\n",
    "import numpy as np \n",
    "import pandas as pd\n",
    "\n",
    "from shapely import wkt\n",
    "import geopy.distance\n",
    "from math import radians, cos, sin, asin, sqrt\n",
    "\n",
    "from pandas.core.frame import DataFrame\n",
    "from functools import reduce\n",
    "import pyproj as pp\n",
    "from pyproj import Proj"
   ]
  },
  {
   "cell_type": "code",
   "execution_count": 7,
   "metadata": {},
   "outputs": [
    {
     "data": {
      "text/html": [
       "<div>\n",
       "<style scoped>\n",
       "    .dataframe tbody tr th:only-of-type {\n",
       "        vertical-align: middle;\n",
       "    }\n",
       "\n",
       "    .dataframe tbody tr th {\n",
       "        vertical-align: top;\n",
       "    }\n",
       "\n",
       "    .dataframe thead th {\n",
       "        text-align: right;\n",
       "    }\n",
       "</style>\n",
       "<table border=\"1\" class=\"dataframe\">\n",
       "  <thead>\n",
       "    <tr style=\"text-align: right;\">\n",
       "      <th></th>\n",
       "      <th>zp</th>\n",
       "      <th>ud_mies</th>\n",
       "      <th>dpa_provin</th>\n",
       "      <th>dpa_despro</th>\n",
       "      <th>dpa_cant</th>\n",
       "      <th>dpa_descan</th>\n",
       "      <th>dpa_parroq</th>\n",
       "      <th>dpa_despar</th>\n",
       "      <th>beneficio</th>\n",
       "      <th>edad</th>\n",
       "      <th>lat</th>\n",
       "      <th>lon</th>\n",
       "      <th>corte</th>\n",
       "    </tr>\n",
       "  </thead>\n",
       "  <tbody>\n",
       "    <tr>\n",
       "      <th>0</th>\n",
       "      <td>Zona Planificación 6</td>\n",
       "      <td>UNIDAD DESCONCENTRADA ZONAL 6</td>\n",
       "      <td>1</td>\n",
       "      <td>AZUAY</td>\n",
       "      <td>108</td>\n",
       "      <td>SANTA ISABEL</td>\n",
       "      <td>10851</td>\n",
       "      <td>ABDON CALDERON (LA UNION)</td>\n",
       "      <td>PENSION MIS MEJORES AÑOS</td>\n",
       "      <td>73.0</td>\n",
       "      <td>-3.200741</td>\n",
       "      <td>-79.293510</td>\n",
       "      <td>julio_2022</td>\n",
       "    </tr>\n",
       "    <tr>\n",
       "      <th>1</th>\n",
       "      <td>Zona Planificación 6</td>\n",
       "      <td>UNIDAD DESCONCENTRADA ZONAL 6</td>\n",
       "      <td>1</td>\n",
       "      <td>AZUAY</td>\n",
       "      <td>101</td>\n",
       "      <td>CUENCA</td>\n",
       "      <td>10150</td>\n",
       "      <td>CUENCA</td>\n",
       "      <td>PENSION PARA ADULTOS MAYORES</td>\n",
       "      <td>81.0</td>\n",
       "      <td>-2.888826</td>\n",
       "      <td>-79.043392</td>\n",
       "      <td>julio_2022</td>\n",
       "    </tr>\n",
       "  </tbody>\n",
       "</table>\n",
       "</div>"
      ],
      "text/plain": [
       "                     zp                        ud_mies  dpa_provin dpa_despro  \\\n",
       "0  Zona Planificación 6  UNIDAD DESCONCENTRADA ZONAL 6           1      AZUAY   \n",
       "1  Zona Planificación 6  UNIDAD DESCONCENTRADA ZONAL 6           1      AZUAY   \n",
       "\n",
       "   dpa_cant    dpa_descan  dpa_parroq                 dpa_despar  \\\n",
       "0       108  SANTA ISABEL       10851  ABDON CALDERON (LA UNION)   \n",
       "1       101        CUENCA       10150                     CUENCA   \n",
       "\n",
       "                      beneficio  edad       lat        lon       corte  \n",
       "0      PENSION MIS MEJORES AÑOS  73.0 -3.200741 -79.293510  julio_2022  \n",
       "1  PENSION PARA ADULTOS MAYORES  81.0 -2.888826 -79.043392  julio_2022  "
      ]
     },
     "execution_count": 7,
     "metadata": {},
     "output_type": "execute_result"
    }
   ],
   "source": [
    "#Database from MIES\n",
    "\n",
    "# BDH and others pensions \n",
    "df_1 = pd.read_excel(\"https://info.inclusion.gob.ec/images/usuarios_externos/2022/BENEFICIARIOS_BONOS_PENSIONES_JUL2022.xls\", sheet_name= \"PARTE 1 JULIO2022\")\n",
    "df_2 = pd.read_excel(\"https://info.inclusion.gob.ec/images/usuarios_externos/2022/BENEFICIARIOS_BONOS_PENSIONES_JUL2022.xls\", sheet_name= \"PARTE 2 JULIO2022\")\n",
    "df_MIES = pd.concat([df_1, df_2], ignore_index=True)\n",
    "df_MIES.head(2)"
   ]
  },
  {
   "cell_type": "code",
   "execution_count": 12,
   "metadata": {},
   "outputs": [
    {
     "data": {
      "text/plain": [
       "<AxesSubplot:>"
      ]
     },
     "execution_count": 12,
     "metadata": {},
     "output_type": "execute_result"
    },
    {
     "data": {
      "image/png": "[encoded data removed]",
      "text/plain": [
       "<Figure size 864x864 with 1 Axes>"
      ]
     },
     "metadata": {
      "needs_background": "light"
     },
     "output_type": "display_data"
    }
   ],
   "source": [
    "# Convertir la base RS2018 en formato espacial\n",
    "\n",
    "df_MIES_gdf= gpd.GeoDataFrame(df_MIES, geometry= gpd.points_from_xy(df_MIES['lon'],df_MIES['lat']))\n",
    "df_MIES_gdf['geometry'] = df_MIES_gdf['geometry'].astype(str).apply(wkt.loads)\n",
    "gdf_hog = gpd.GeoDataFrame(df_MIES_gdf, crs='epsg:4326')\n",
    "gdf_hog.plot()"
   ]
  },
  {
   "cell_type": "code",
   "execution_count": null,
   "metadata": {},
   "outputs": [],
   "source": []
  }
 ],
 "metadata": {
  "kernelspec": {
   "display_name": "geo_env",
   "language": "python",
   "name": "python3"
  },
  "language_info": {
   "codemirror_mode": {
    "name": "ipython",
    "version": 3
   },
   "file_extension": ".py",
   "mimetype": "text/x-python",
   "name": "python",
   "nbconvert_exporter": "python",
   "pygments_lexer": "ipython3",
   "version": "3.10.2"
  },
  "orig_nbformat": 4,
  "vscode": {
   "interpreter": {
    "hash": "dc6c5260799e5b2685952dc67c6d27d3ce639d6d7da909a7a1e0f625b83bdacd"
   }
  }
 },
 "nbformat": 4,
 "nbformat_minor": 2
}
